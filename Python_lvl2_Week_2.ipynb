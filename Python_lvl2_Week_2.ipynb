{
 "cells": [
  {
   "cell_type": "markdown",
   "metadata": {},
   "source": [
    "## Ошибки и исключения"
   ]
  },
  {
   "cell_type": "markdown",
   "metadata": {},
   "source": [
    "### Задача 1"
   ]
  },
  {
   "cell_type": "code",
   "execution_count": null,
   "metadata": {},
   "outputs": [],
   "source": [
    "try:\n",
    "    foo()\n",
    "except ZeroDivisionError:\n",
    "    print(\"ZeroDivisionError\")\n",
    "except ArithmeticError:\n",
    "    print(\"ArithmeticError\")\n",
    "except AssertionError:\n",
    "    print(\"AssertionError\")"
   ]
  },
  {
   "cell_type": "markdown",
   "metadata": {},
   "source": [
    "### Задача 2"
   ]
  },
  {
   "cell_type": "code",
   "execution_count": 4,
   "metadata": {},
   "outputs": [
    {
     "name": "stdout",
     "output_type": "stream",
     "text": [
      "4\n",
      "a\n",
      "b : c\n",
      "c\n",
      "d : c\n",
      "[]\n",
      "['c']\n",
      "[]\n",
      "['c']\n",
      "4\n",
      "a\n",
      "c\n",
      "b\n",
      "d\n",
      "b\n",
      "d\n"
     ]
    }
   ],
   "source": [
    "def get_array_of_parents(child,parent, my_list, diction):\n",
    "    my_list += diction[child]\n",
    "    for val in diction[child]:\n",
    "        get_array_of_parents(val, parent, my_list, diction)\n",
    "    return my_list\n",
    "\n",
    "def parent_finded(child,parent, my_list, diction):\n",
    "    if (child == parent):\n",
    "        return \"Yes\"\n",
    "    my_array = get_array_of_parents(child,parent, my_list, diction)\n",
    "    if (parent in my_array):\n",
    "        return \"Yes\"\n",
    "    else:\n",
    "        return \"No\"\n",
    "\n",
    "diction = {}\n",
    "n = int(input())\n",
    "for j in range(n):\n",
    "    input_string = input()\n",
    "    elements = input_string.split()\n",
    "    if (elements[0] not in diction):\n",
    "        diction[elements[0]] = []\n",
    "    if (len(elements) > 1):\n",
    "        for i in range(2, len(elements),1):\n",
    "            diction[elements[0]].append(elements[i])\n",
    "    \n",
    "for val in diction:\n",
    "    print(diction[val])    \n",
    "    \n",
    "declared_list = []\n",
    "print_list = []\n",
    "q = int(input())\n",
    "for j in range(q):\n",
    "    input_string = input()\n",
    "    if(j == 0):\n",
    "        declared_list.append(input_string)\n",
    "    else:\n",
    "        l = len(declared_list)\n",
    "        for i in range(l):\n",
    "            my_list = []\n",
    "            res = parent_finded(input_string, declared_list[i], my_list, diction)\n",
    "            if(res == \"Yes\"):\n",
    "                print_list.append(input_string)\n",
    "            else:\n",
    "                declared_list.append(input_string)\n",
    "final_print = set(print_list)\n",
    "for i in (final_print):\n",
    "    print(i)"
   ]
  },
  {
   "cell_type": "code",
   "execution_count": 2,
   "metadata": {},
   "outputs": [
    {
     "name": "stdout",
     "output_type": "stream",
     "text": [
      "4\n",
      "a\n",
      "b\n",
      "c\n",
      "d : a b c\n",
      "[]\n",
      "[]\n",
      "[]\n",
      "['a', 'b', 'c']\n",
      "\n",
      "4\n",
      "a\n",
      "b\n",
      "val: a\n",
      "ch:  b par: a arr:  []\n",
      "No\n",
      "No print\n",
      "c\n",
      "val: a\n",
      "ch:  c par: a arr:  []\n",
      "No\n",
      "No print\n",
      "val: b\n",
      "ch:  c par: b arr:  []\n",
      "No\n",
      "No print\n",
      "d\n",
      "val: a\n",
      "ch:  d par: a arr:  ['a', 'b', 'c']\n",
      "Yes\n",
      "Need to print: d\n",
      "val: b\n",
      "ch:  d par: b arr:  ['a', 'b', 'c']\n",
      "Yes\n",
      "Need to print: d\n",
      "val: c\n",
      "ch:  d par: c arr:  ['a', 'b', 'c']\n",
      "Yes\n",
      "Need to print: d\n",
      "val: c\n",
      "ch:  d par: c arr:  ['a', 'b', 'c']\n",
      "Yes\n",
      "Need to print: d\n",
      "d\n"
     ]
    }
   ],
   "source": [
    "def get_array_of_parents(child,parent, my_list, diction):\n",
    "    my_list += diction[child]\n",
    "    for val in diction[child]:\n",
    "        get_array_of_parents(val, parent, my_list, diction)\n",
    "    return my_list\n",
    "\n",
    "def parent_finded(child,parent, my_list, diction):\n",
    "    if (child == parent):\n",
    "        return \"Yes\"\n",
    "    my_array = get_array_of_parents(child,parent, my_list, diction)\n",
    "    print(\"ch: \", child, \"par:\", parent, \"arr: \", my_array)\n",
    "    if (parent in my_array):\n",
    "        print(\"Yes\")\n",
    "        return \"Yes\"\n",
    "    else:\n",
    "        print(\"No\")\n",
    "        return \"No\"\n",
    "\n",
    "diction = {}\n",
    "n = int(input())\n",
    "for j in range(n):\n",
    "    input_string = input()\n",
    "    elements = input_string.split()\n",
    "    if (elements[0] not in diction):\n",
    "        diction[elements[0]] = []\n",
    "    if (len(elements) > 1):\n",
    "        for i in range(2, len(elements),1):\n",
    "            diction[elements[0]].append(elements[i])\n",
    "\n",
    "for val in diction:\n",
    "    print(diction[val])\n",
    "    \n",
    "print()\n",
    "    \n",
    "declared_list = []\n",
    "print_list = []\n",
    "q = int(input())\n",
    "for j in range(q):\n",
    "    input_string = input()\n",
    "    if(j == 0):\n",
    "        declared_list.append(input_string)\n",
    "    else:\n",
    "        l = len(declared_list)\n",
    "        for i in range(l):\n",
    "            print(\"val:\",declared_list[i])\n",
    "            my_list = []\n",
    "            res = parent_finded(input_string, declared_list[i], my_list, diction)\n",
    "            if(res == \"Yes\"):\n",
    "                print_list.append(input_string)\n",
    "            else:\n",
    "                declared_list.append(input_string)\n",
    "final_print = set(print_list)\n",
    "for i in (final_print):\n",
    "    print(i)"
   ]
  },
  {
   "cell_type": "markdown",
   "metadata": {},
   "source": [
    "### Задача 3"
   ]
  },
  {
   "cell_type": "code",
   "execution_count": null,
   "metadata": {},
   "outputs": [],
   "source": [
    "class NonPositiveError(Exception):\n",
    "    pass\n",
    "\n",
    "class PositiveList(list):\n",
    "    def append(self,x):\n",
    "        if(x>0):\n",
    "            super(PositiveList, self).append(x)\n",
    "        else:\n",
    "            raise NonPositiveError('Non')"
   ]
  },
  {
   "cell_type": "markdown",
   "metadata": {},
   "source": [
    "## Модули и импорт"
   ]
  },
  {
   "cell_type": "markdown",
   "metadata": {},
   "source": [
    "### Задача 1"
   ]
  },
  {
   "cell_type": "code",
   "execution_count": 12,
   "metadata": {},
   "outputs": [
    {
     "name": "stdout",
     "output_type": "stream",
     "text": [
      "2016 4 20\n",
      "2016-04-20\n",
      "2\n",
      "2016 4 22\n"
     ]
    }
   ],
   "source": [
    "import datetime\n",
    "(year,month,day) = [int(n) for n in input().split()]\n",
    "date_ = datetime.date(year,month,day)\n",
    "print(date_)\n",
    "delta = datetime.timedelta(int(input()))\n",
    "new_date = date_ + delta\n",
    "print(new_date.year, new_date.month, new_date.day)"
   ]
  },
  {
   "cell_type": "markdown",
   "metadata": {},
   "source": [
    "### Задача 2"
   ]
  },
  {
   "cell_type": "code",
   "execution_count": 39,
   "metadata": {},
   "outputs": [
    {
     "name": "stdout",
     "output_type": "stream",
     "text": [
      "b'RVrF2qdMpoq6Lib' b'Alice loves Bob'\n"
     ]
    }
   ],
   "source": [
    "import requests\n",
    "from simplecrypt import decrypt, DecryptionException\n",
    " \n",
    "code = requests.get('https://stepic.org/media/attachments/lesson/24466/encrypted.bin').content\n",
    "passes = requests.get('https://stepic.org/media/attachments/lesson/24466/passwords.txt').content\n",
    " \n",
    "for p in passes.split():\n",
    "    try:\n",
    "        s = decrypt(p, code)\n",
    "    except DecryptionException:\n",
    "        pass\n",
    "    else:\n",
    "        print(p, s)"
   ]
  },
  {
   "cell_type": "markdown",
   "metadata": {},
   "source": [
    "## Итераторы и генераторы"
   ]
  },
  {
   "cell_type": "markdown",
   "metadata": {},
   "source": [
    "### Задача 1"
   ]
  },
  {
   "cell_type": "code",
   "execution_count": 42,
   "metadata": {},
   "outputs": [
    {
     "name": "stdout",
     "output_type": "stream",
     "text": [
      "[0, 2, 3, 4, 5, 6, 8, 9, 10, 12, 14, 15, 16, 18, 20, 21, 22, 24, 25, 26, 27, 28, 30]\n",
      "[0, 6, 10, 12, 15, 18, 20, 24, 30]\n",
      "[0, 30]\n"
     ]
    }
   ],
   "source": [
    "class multifilter:\n",
    "    def judge_half(pos, neg):\n",
    "        if(pos >= neg):\n",
    "            return True\n",
    "        else:\n",
    "            return False\n",
    "\n",
    "    def judge_any(pos, neg):\n",
    "        if (pos >= 1):\n",
    "            return True\n",
    "        else:\n",
    "            return False\n",
    "\n",
    "    def judge_all(pos, neg):\n",
    "        if (neg == 0):\n",
    "            return True\n",
    "        else:\n",
    "            return False\n",
    "        \n",
    "    def count_res(self, a):\n",
    "        res = [f(a) for f in self.funcs]\n",
    "        return res.count(True), res.count(False)\n",
    "\n",
    "    def __init__(self, iterable, *funcs, judge=judge_any):\n",
    "        self.iterable = iterable\n",
    "        self.funcs = funcs\n",
    "        self.judge = judge\n",
    "        self.it = iter(iterable)\n",
    "\n",
    "    def __iter__(self):\n",
    "        for i in self.iterable:\n",
    "            pos = 0\n",
    "            neg = 0\n",
    "            pos, neg = self.count_res(i)\n",
    "            if self.judge(pos, neg):\n",
    "                yield i\n",
    "                \n",
    "def mul2(x):\n",
    "    return x % 2 == 0\n",
    "\n",
    "def mul3(x):\n",
    "    return x % 3 == 0\n",
    "\n",
    "def mul5(x):\n",
    "    return x % 5 == 0\n",
    "\n",
    "\n",
    "a = [i for i in range(31)] # [0, 1, 2, ... , 30]\n",
    "\n",
    "print(list(multifilter(a, mul2, mul3, mul5))) \n",
    "# [0, 2, 3, 4, 5, 6, 8, 9, 10, 12, 14, 15, 16, 18, 20, 21, 22, 24, 25, 26, 27, 28, 30]\n",
    "\n",
    "print(list(multifilter(a, mul2, mul3, mul5, judge=multifilter.judge_half))) \n",
    "# [0, 6, 10, 12, 15, 18, 20, 24, 30]\n",
    "\n",
    "print(list(multifilter(a, mul2, mul3, mul5, judge=multifilter.judge_all))) \n",
    "# [0, 30]"
   ]
  },
  {
   "cell_type": "markdown",
   "metadata": {},
   "source": [
    "### Задача 2"
   ]
  },
  {
   "cell_type": "code",
   "execution_count": 47,
   "metadata": {},
   "outputs": [
    {
     "name": "stdout",
     "output_type": "stream",
     "text": [
      "[2, 3, 5]\n"
     ]
    }
   ],
   "source": [
    "import itertools\n",
    "\n",
    "def primes():\n",
    "    numb = 1\n",
    "    while True:\n",
    "        numb += 1\n",
    "        count = 0\n",
    "        for i in range(1,numb,1):\n",
    "            if (numb % i == 0):\n",
    "                count += 1\n",
    "        if (count == 1):\n",
    "            yield numb\n",
    "\n",
    "print(list(itertools.takewhile(lambda x : x <= 5, primes())))"
   ]
  },
  {
   "cell_type": "markdown",
   "metadata": {},
   "source": [
    "## functool & lambda-functions"
   ]
  },
  {
   "cell_type": "markdown",
   "metadata": {},
   "source": [
    "### Задача 1"
   ]
  },
  {
   "cell_type": "code",
   "execution_count": 4,
   "metadata": {},
   "outputs": [
    {
     "name": "stdout",
     "output_type": "stream",
     "text": [
      "True\n",
      "False\n",
      "True\n"
     ]
    }
   ],
   "source": [
    "def mod_checker(y, mod = 0):\n",
    "    return lambda x : x % y == mod\n",
    "\n",
    "mod_3 = mod_checker(3)\n",
    "\n",
    "print(mod_3(3)) # True\n",
    "print(mod_3(4)) # False\n",
    "\n",
    "mod_3_1 = mod_checker(3, 1)\n",
    "print(mod_3_1(4)) # True"
   ]
  },
  {
   "cell_type": "markdown",
   "metadata": {},
   "source": [
    "## Работа с файлами\n",
    "### Задача 1"
   ]
  },
  {
   "cell_type": "code",
   "execution_count": 7,
   "metadata": {},
   "outputs": [],
   "source": [
    "with open(\"d:/reaf_f.txt\",\"r\") as read_f, open(\"d:/result_file.txt\",\"w\") as write_f:\n",
    "    x = read_f.read().splitlines()\n",
    "    x = x[::-1]\n",
    "    to_write = \"\\n\".join(x)\n",
    "    write_f.write(to_write)"
   ]
  },
  {
   "cell_type": "markdown",
   "metadata": {},
   "source": [
    "### Задача 2"
   ]
  },
  {
   "cell_type": "code",
   "execution_count": 28,
   "metadata": {},
   "outputs": [],
   "source": [
    "import os\n",
    "my_list = []\n",
    "os.chdir(\"D:/main\")\n",
    "for cur_dir, dirs, files in os.walk(\".\"):\n",
    "    for f in files:\n",
    "        if f.endswith('.py'):\n",
    "            p = os.getcwd()\n",
    "            my_list.append(os.path.abspath(p)[3:] + cur_dir[1:])\n",
    "            break\n",
    "sorted(my_list,key=lambda x:(str.lower(x),x))\n",
    "to_write = \"\\n\".join(my_list)\n",
    "with open(\"res_file_os.txt\",\"w\") as res:\n",
    "    res.write(to_write)\n",
    "            "
   ]
  },
  {
   "cell_type": "code",
   "execution_count": null,
   "metadata": {},
   "outputs": [],
   "source": []
  }
 ],
 "metadata": {
  "kernelspec": {
   "display_name": "Python 3",
   "language": "python",
   "name": "python3"
  },
  "language_info": {
   "codemirror_mode": {
    "name": "ipython",
    "version": 3
   },
   "file_extension": ".py",
   "mimetype": "text/x-python",
   "name": "python",
   "nbconvert_exporter": "python",
   "pygments_lexer": "ipython3",
   "version": "3.6.3"
  }
 },
 "nbformat": 4,
 "nbformat_minor": 2
}
