{
 "cells": [
  {
   "cell_type": "markdown",
   "metadata": {},
   "source": [
    "# This is a notebook for the course Python basics and application"
   ]
  },
  {
   "cell_type": "markdown",
   "metadata": {},
   "source": [
    "## https://stepik.org/course/512/syllabus"
   ]
  },
  {
   "cell_type": "markdown",
   "metadata": {},
   "source": [
    "Week 1"
   ]
  },
  {
   "cell_type": "markdown",
   "metadata": {},
   "source": [
    "## Модель данных:\n",
    "### Задача"
   ]
  },
  {
   "cell_type": "code",
   "execution_count": null,
   "metadata": {},
   "outputs": [],
   "source": []
  },
  {
   "cell_type": "markdown",
   "metadata": {},
   "source": [
    "## Функции и стек вызовов:\n",
    "### Пример 1"
   ]
  },
  {
   "cell_type": "code",
   "execution_count": 2,
   "metadata": {},
   "outputs": [
    {
     "name": "stdout",
     "output_type": "stream",
     "text": [
      "43\n",
      "6\n"
     ]
    }
   ],
   "source": [
    "def list_sum(lst):\n",
    "    result = 0\n",
    "    for element in lst:\n",
    "        result += element\n",
    "    return result\n",
    "\n",
    "def sum (a,b):\n",
    "    return a + b\n",
    "\n",
    "y = sum(14,29)\n",
    "z = list_sum([1,2,3])\n",
    "print(y)\n",
    "print(z)"
   ]
  },
  {
   "cell_type": "markdown",
   "metadata": {},
   "source": [
    "### Пример 2"
   ]
  },
  {
   "cell_type": "code",
   "execution_count": 3,
   "metadata": {},
   "outputs": [
    {
     "name": "stdout",
     "output_type": "stream",
     "text": [
      "I am outside all functions\n",
      "I am in function f\n",
      "I am in function g\n",
      "I am in function f\n",
      "I am outside all functions\n"
     ]
    }
   ],
   "source": [
    "def g():\n",
    "    print('I am in function g')\n",
    "\n",
    "def f():\n",
    "    print(\"I am in function f\")\n",
    "    g()\n",
    "    print(\"I am in function f\")\n",
    "    \n",
    "print(\"I am outside all functions\")\n",
    "f()\n",
    "print(\"I am outside all functions\")\n"
   ]
  },
  {
   "cell_type": "markdown",
   "metadata": {},
   "source": [
    "### Задача 2"
   ]
  },
  {
   "cell_type": "code",
   "execution_count": 7,
   "metadata": {},
   "outputs": [
    {
     "name": "stdout",
     "output_type": "stream",
     "text": [
      "5\n"
     ]
    }
   ],
   "source": [
    "def closest_mod_5(x):\n",
    "    if x % 5 == 0: \n",
    "        return x\n",
    "    else:\n",
    "        return 5 * ((x // 5) + 1)\n",
    "    \n",
    "res = closest_mod_5(4)\n",
    "print(res)"
   ]
  },
  {
   "cell_type": "markdown",
   "metadata": {},
   "source": [
    "### Пример 3"
   ]
  },
  {
   "cell_type": "code",
   "execution_count": 13,
   "metadata": {},
   "outputs": [
    {
     "name": "stdout",
     "output_type": "stream",
     "text": [
      "10\n",
      "20\n",
      "10\n",
      "20\n",
      "10\n",
      "20\n",
      "10\n",
      "20\n",
      "10\n",
      "20\n"
     ]
    }
   ],
   "source": [
    "def printab(a,b):\n",
    "    print(a)\n",
    "    print(b)\n",
    "    \n",
    "printab(10,20)\n",
    "printab(a=10,b=20)\n",
    "printab(10,b=20)\n",
    "lst = [10,20]\n",
    "printab(*lst)\n",
    "args = {'a' : 10, 'b' : 20}\n",
    "printab(**args)"
   ]
  },
  {
   "cell_type": "markdown",
   "metadata": {},
   "source": [
    "### Пример 4 Функции: аргументы"
   ]
  },
  {
   "cell_type": "code",
   "execution_count": 16,
   "metadata": {},
   "outputs": [
    {
     "name": "stdout",
     "output_type": "stream",
     "text": [
      "positional argument a  10\n",
      "positional argument b  20\n",
      "positional arguments: \n",
      "30\n",
      "40\n",
      "50\n"
     ]
    }
   ],
   "source": [
    "def printab(a,b, *args):\n",
    "    print(\"positional argument a \",a)\n",
    "    print(\"positional argument b \",b)\n",
    "    print(\"positional arguments: \")\n",
    "    for arg in args:\n",
    "        print(arg)\n",
    "    \n",
    "printab(10,20,30,40,50)\n"
   ]
  },
  {
   "cell_type": "markdown",
   "metadata": {},
   "source": [
    "### Определение функции"
   ]
  },
  {
   "cell_type": "markdown",
   "metadata": {},
   "source": [
    "def function_name ([positional_args,\n",
    "                   [positional_args_default,\n",
    "                   [*pos_args_name,\n",
    "                   [keyword_only_args, \n",
    "                   [**kw_args_name]]]]]): "
   ]
  },
  {
   "cell_type": "markdown",
   "metadata": {},
   "source": [
    "### Задача 3"
   ]
  },
  {
   "cell_type": "code",
   "execution_count": 36,
   "metadata": {},
   "outputs": [
    {
     "name": "stdout",
     "output_type": "stream",
     "text": [
      "3 2\n",
      "3\n"
     ]
    }
   ],
   "source": [
    "n, k = map(int,input().split())\n",
    "def factorial(x):\n",
    "    res = 1\n",
    "    i = 1\n",
    "    while(i<=x):\n",
    "        res *= i\n",
    "        i+=1\n",
    "    return res\n",
    "final_res = factorial(n) / (factorial(n-k) * factorial(k))\n",
    "print(int(final_res))"
   ]
  },
  {
   "cell_type": "code",
   "execution_count": null,
   "metadata": {},
   "outputs": [],
   "source": []
  }
 ],
 "metadata": {
  "kernelspec": {
   "display_name": "Python 3",
   "language": "python",
   "name": "python3"
  },
  "language_info": {
   "codemirror_mode": {
    "name": "ipython",
    "version": 3
   },
   "file_extension": ".py",
   "mimetype": "text/x-python",
   "name": "python",
   "nbconvert_exporter": "python",
   "pygments_lexer": "ipython3",
   "version": "3.6.3"
  }
 },
 "nbformat": 4,
 "nbformat_minor": 2
}
