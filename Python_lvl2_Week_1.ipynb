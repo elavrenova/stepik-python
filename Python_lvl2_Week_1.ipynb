{
 "cells": [
  {
   "cell_type": "markdown",
   "metadata": {},
   "source": [
    "# This is a notebook for the course Python basics and application"
   ]
  },
  {
   "cell_type": "markdown",
   "metadata": {},
   "source": [
    "## https://stepik.org/course/512/syllabus"
   ]
  },
  {
   "cell_type": "markdown",
   "metadata": {},
   "source": [
    "Week 1"
   ]
  },
  {
   "cell_type": "markdown",
   "metadata": {},
   "source": [
    "## Модель данных:\n",
    "### Задача"
   ]
  },
  {
   "cell_type": "code",
   "execution_count": 28,
   "metadata": {},
   "outputs": [
    {
     "name": "stdout",
     "output_type": "stream",
     "text": [
      "2\n",
      "obj  1\n",
      "j 1\n",
      "objects =  1\n",
      "j 1\n",
      "1\n",
      "\n",
      "obj  1\n",
      "1\n"
     ]
    }
   ],
   "source": [
    "objects = [1,1]\n",
    "length = len(objects)\n",
    "qty = len(objects)\n",
    "print(qty)\n",
    "i = 1\n",
    "for obj in objects:\n",
    "    print(\"obj \",obj)\n",
    "    \n",
    "    for j in range(i, length, 1):\n",
    "        print(\"j\",j)\n",
    "        print(\"objects = \",objects[j])\n",
    "        if(obj is objects[j]):\n",
    "            print(\"j\",j)\n",
    "            qty-=1\n",
    "            print(qty)\n",
    "        else:\n",
    "            print(\"not \", qty)\n",
    "        print()\n",
    "    i+=1\n",
    "if(qty == 0):\n",
    "    print(1)\n",
    "else:\n",
    "    print(qty)"
   ]
  },
  {
   "cell_type": "code",
   "execution_count": 29,
   "metadata": {},
   "outputs": [
    {
     "name": "stdout",
     "output_type": "stream",
     "text": [
      "3\n"
     ]
    }
   ],
   "source": [
    "objects = [1,2,1,2,3]\n",
    "my_list = []\n",
    "for obj in objects:\n",
    "    if (obj not in my_list):\n",
    "        my_list.append(obj)\n",
    "print(len(my_list))"
   ]
  },
  {
   "cell_type": "markdown",
   "metadata": {},
   "source": [
    "## Функции и стек вызовов:\n",
    "### Пример 1"
   ]
  },
  {
   "cell_type": "code",
   "execution_count": 2,
   "metadata": {},
   "outputs": [
    {
     "name": "stdout",
     "output_type": "stream",
     "text": [
      "43\n",
      "6\n"
     ]
    }
   ],
   "source": [
    "def list_sum(lst):\n",
    "    result = 0\n",
    "    for element in lst:\n",
    "        result += element\n",
    "    return result\n",
    "\n",
    "def sum (a,b):\n",
    "    return a + b\n",
    "\n",
    "y = sum(14,29)\n",
    "z = list_sum([1,2,3])\n",
    "print(y)\n",
    "print(z)"
   ]
  },
  {
   "cell_type": "markdown",
   "metadata": {},
   "source": [
    "### Пример 2"
   ]
  },
  {
   "cell_type": "code",
   "execution_count": 3,
   "metadata": {},
   "outputs": [
    {
     "name": "stdout",
     "output_type": "stream",
     "text": [
      "I am outside all functions\n",
      "I am in function f\n",
      "I am in function g\n",
      "I am in function f\n",
      "I am outside all functions\n"
     ]
    }
   ],
   "source": [
    "def g():\n",
    "    print('I am in function g')\n",
    "\n",
    "def f():\n",
    "    print(\"I am in function f\")\n",
    "    g()\n",
    "    print(\"I am in function f\")\n",
    "    \n",
    "print(\"I am outside all functions\")\n",
    "f()\n",
    "print(\"I am outside all functions\")\n"
   ]
  },
  {
   "cell_type": "markdown",
   "metadata": {},
   "source": [
    "### Задача 2"
   ]
  },
  {
   "cell_type": "code",
   "execution_count": 7,
   "metadata": {},
   "outputs": [
    {
     "name": "stdout",
     "output_type": "stream",
     "text": [
      "5\n"
     ]
    }
   ],
   "source": [
    "def closest_mod_5(x):\n",
    "    if x % 5 == 0: \n",
    "        return x\n",
    "    else:\n",
    "        return 5 * ((x // 5) + 1)\n",
    "    \n",
    "res = closest_mod_5(4)\n",
    "print(res)"
   ]
  },
  {
   "cell_type": "markdown",
   "metadata": {},
   "source": [
    "### Пример 3"
   ]
  },
  {
   "cell_type": "code",
   "execution_count": 13,
   "metadata": {},
   "outputs": [
    {
     "name": "stdout",
     "output_type": "stream",
     "text": [
      "10\n",
      "20\n",
      "10\n",
      "20\n",
      "10\n",
      "20\n",
      "10\n",
      "20\n",
      "10\n",
      "20\n"
     ]
    }
   ],
   "source": [
    "def printab(a,b):\n",
    "    print(a)\n",
    "    print(b)\n",
    "    \n",
    "printab(10,20)\n",
    "printab(a=10,b=20)\n",
    "printab(10,b=20)\n",
    "lst = [10,20]\n",
    "printab(*lst)\n",
    "args = {'a' : 10, 'b' : 20}\n",
    "printab(**args)"
   ]
  },
  {
   "cell_type": "markdown",
   "metadata": {},
   "source": [
    "### Пример 4 Функции: аргументы"
   ]
  },
  {
   "cell_type": "code",
   "execution_count": 16,
   "metadata": {},
   "outputs": [
    {
     "name": "stdout",
     "output_type": "stream",
     "text": [
      "positional argument a  10\n",
      "positional argument b  20\n",
      "positional arguments: \n",
      "30\n",
      "40\n",
      "50\n"
     ]
    }
   ],
   "source": [
    "def printab(a,b, *args):\n",
    "    print(\"positional argument a \",a)\n",
    "    print(\"positional argument b \",b)\n",
    "    print(\"positional arguments: \")\n",
    "    for arg in args:\n",
    "        print(arg)\n",
    "    \n",
    "printab(10,20,30,40,50)\n"
   ]
  },
  {
   "cell_type": "markdown",
   "metadata": {},
   "source": [
    "### Определение функции"
   ]
  },
  {
   "cell_type": "markdown",
   "metadata": {},
   "source": [
    "def function_name ([positional_args,\n",
    "                   [positional_args_default,\n",
    "                   [*pos_args_name,\n",
    "                   [keyword_only_args, \n",
    "                   [**kw_args_name]]]]]): "
   ]
  },
  {
   "cell_type": "markdown",
   "metadata": {},
   "source": [
    "### Задача 3"
   ]
  },
  {
   "cell_type": "code",
   "execution_count": 36,
   "metadata": {},
   "outputs": [
    {
     "name": "stdout",
     "output_type": "stream",
     "text": [
      "3 2\n",
      "3\n"
     ]
    }
   ],
   "source": [
    "n, k = map(int,input().split())\n",
    "def factorial(x):\n",
    "    res = 1\n",
    "    i = 1\n",
    "    while(i<=x):\n",
    "        res *= i\n",
    "        i+=1\n",
    "    return res\n",
    "final_res = factorial(n) / (factorial(n-k) * factorial(k))\n",
    "print(int(final_res))"
   ]
  },
  {
   "cell_type": "markdown",
   "metadata": {},
   "source": [
    "## Namespaces and scopes"
   ]
  },
  {
   "cell_type": "markdown",
   "metadata": {},
   "source": [
    "### Task 4"
   ]
  },
  {
   "cell_type": "markdown",
   "metadata": {},
   "source": [
    "#### Incorrect"
   ]
  },
  {
   "cell_type": "code",
   "execution_count": 14,
   "metadata": {},
   "outputs": [
    {
     "name": "stdout",
     "output_type": "stream",
     "text": [
      "2\n",
      "add global q\n",
      "get foo q\n",
      "False\n",
      "\n",
      "None\n"
     ]
    }
   ],
   "source": [
    "def gett(namesp, arg, variables, namespaces):\n",
    "    print(namesp in variables and arg == variables[namesp])\n",
    "    print()\n",
    "    if (namesp in variables and arg == variables[namesp]):\n",
    "        return namesp\n",
    "    else:\n",
    "        if (namesp ==\"global\"):\n",
    "            return \"None\"\n",
    "        else:\n",
    "            if (namesp in namespaces):\n",
    "                parent = namespaces[namesp]\n",
    "                print(\"par\", parent)\n",
    "                print()\n",
    "                res = gett(parent,arg,variables,namespaces)\n",
    "                return res\n",
    "            else:\n",
    "                return \"None\"\n",
    "    \n",
    "        \n",
    "\n",
    "n = int(input())\n",
    "namespaces = {}\n",
    "variables = {}\n",
    "namespaces[\"global\"] = \"None\"\n",
    "for i in range(n):\n",
    "    command, namesp, arg = input().split()\n",
    "    if (command == \"add\"):\n",
    "        variables[namesp] = arg\n",
    "    elif (command == \"create\"):\n",
    "        namespaces[namesp] = arg\n",
    "    else:\n",
    "        print(gett(namesp, arg, variables, namespaces))            \n"
   ]
  },
  {
   "cell_type": "markdown",
   "metadata": {},
   "source": [
    "#### Correct"
   ]
  },
  {
   "cell_type": "code",
   "execution_count": 27,
   "metadata": {},
   "outputs": [
    {
     "name": "stdout",
     "output_type": "stream",
     "text": [
      "2\n",
      "add global a\n",
      "get foo a\n",
      "None\n"
     ]
    }
   ],
   "source": [
    "def create(namesp, parent, scopes):\n",
    "    scopes[namesp] = {'parent':parent, 'variables':set()}\n",
    "    \n",
    "def add(namesp,var, scopes):\n",
    "    scopes[namesp]['variables'].add(var)\n",
    "    \n",
    "def get(namesp, var, scopes):\n",
    "    if namesp in scopes:\n",
    "        if var in scopes[namesp]['variables']:\n",
    "            return namesp\n",
    "        else:\n",
    "            par = scopes[namesp]['parent']\n",
    "            return get(par,var,scopes)\n",
    "\n",
    "\n",
    "    \n",
    "scopes = {'global': {'parent': None, 'variables': set()}}\n",
    "n = int(input())\n",
    "for i in range(n):\n",
    "    command, namesp, arg = input().split()\n",
    "    if (command == \"add\"):\n",
    "        add(namesp,arg,scopes)\n",
    "    elif (command == \"create\"):\n",
    "        create(namesp,arg,scopes)\n",
    "    else:\n",
    "        print(get(namesp, arg,scopes)) "
   ]
  },
  {
   "cell_type": "markdown",
   "metadata": {},
   "source": [
    "## Введение в классы"
   ]
  },
  {
   "cell_type": "markdown",
   "metadata": {},
   "source": [
    "### Задача 5"
   ]
  },
  {
   "cell_type": "code",
   "execution_count": 24,
   "metadata": {},
   "outputs": [
    {
     "name": "stdout",
     "output_type": "stream",
     "text": [
      "len_buf 6\n",
      "buf[j] 1\n",
      "buf[j] 2\n",
      "buf[j] 3\n",
      "buf[j] 4\n",
      "buf[j] 5\n",
      "15\n",
      "len_buf 5\n",
      "buf[j] 6\n",
      "buf[j] 7\n",
      "buf[j] 8\n",
      "buf[j] 9\n",
      "buf[j] 10\n",
      "40\n",
      "len_buf 11\n",
      "buf[j] 1\n",
      "buf[j] 1\n",
      "buf[j] 1\n",
      "buf[j] 1\n",
      "buf[j] 1\n",
      "5\n",
      "len_buf 6\n",
      "buf[j] 1\n",
      "buf[j] 1\n",
      "buf[j] 1\n",
      "buf[j] 1\n",
      "buf[j] 1\n",
      "5\n"
     ]
    },
    {
     "data": {
      "text/plain": [
       "[1]"
      ]
     },
     "execution_count": 24,
     "metadata": {},
     "output_type": "execute_result"
    }
   ],
   "source": [
    "class Buffer:\n",
    "    def __init__(self):\n",
    "        self.buffer = []\n",
    "\n",
    "    def add(self, *a):\n",
    "        i = 0\n",
    "        for i in range(len(a)):\n",
    "            self.buffer.append(a[i])\n",
    "        summa = 0\n",
    "        while(len(self.buffer) >= 5):\n",
    "            print(\"len_buf\",len(self.buffer))\n",
    "            j = 0\n",
    "            summa = 0\n",
    "            for j in range(5):\n",
    "                print(\"buf[j]\", self.buffer[j])\n",
    "                summa += self.buffer[j]\n",
    "            print(summa)\n",
    "            self.buffer = self.buffer[5:]\n",
    "      \n",
    "    def get_current_part(self):\n",
    "            return self.buffer\n",
    "        \n",
    "buf = Buffer()\n",
    "buf.add(1, 2, 3)\n",
    "buf.get_current_part() # вернуть [1, 2, 3]\n",
    "buf.add(4,5,6)\n",
    "buf.get_current_part() # вернуть [6]\n",
    "buf.add(7, 8, 9, 10) # print(40) – вывод суммы второй пятерки элементов\n",
    "buf.get_current_part() # вернуть []\n",
    "buf.add(1, 1, 1, 1, 1, 1, 1, 1, 1, 1, 1) # print(5), print(5) – вывод сумм третьей и четвертой пятерки\n",
    "buf.get_current_part()"
   ]
  },
  {
   "cell_type": "code",
   "execution_count": null,
   "metadata": {},
   "outputs": [],
   "source": []
  }
 ],
 "metadata": {
  "kernelspec": {
   "display_name": "Python 3",
   "language": "python",
   "name": "python3"
  },
  "language_info": {
   "codemirror_mode": {
    "name": "ipython",
    "version": 3
   },
   "file_extension": ".py",
   "mimetype": "text/x-python",
   "name": "python",
   "nbconvert_exporter": "python",
   "pygments_lexer": "ipython3",
   "version": "3.6.3"
  }
 },
 "nbformat": 4,
 "nbformat_minor": 2
}
